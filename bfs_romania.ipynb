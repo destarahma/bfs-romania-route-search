{
  "nbformat": 4,
  "nbformat_minor": 0,
  "metadata": {
    "colab": {
      "provenance": []
    },
    "kernelspec": {
      "name": "python3",
      "display_name": "Python 3"
    },
    "language_info": {
      "name": "python"
    }
  },
  "cells": [
    {
      "cell_type": "code",
      "execution_count": null,
      "metadata": {
        "colab": {
          "base_uri": "https://localhost:8080/"
        },
        "id": "y8z-fjapoqxv",
        "outputId": "faade725-bac4-45e9-e04d-d1ff4e8cac66"
      },
      "outputs": [
        {
          "output_type": "stream",
          "name": "stdout",
          "text": [
            "Jalur terpendek dari Arad ke Bucharest adalah:\n",
            "Arad -> Sibiu -> Fagaras -> Bucharest\n"
          ]
        }
      ],
      "source": [
        "from collections import deque\n",
        "\n",
        "romania_map = {\n",
        "    'Arad': ['Zerind', 'Timisoara', 'Sibiu'],\n",
        "    'Zerind': ['Oradea', 'Arad'],\n",
        "    'Oradea': ['Zerind', 'Sibiu'],\n",
        "    'Timisoara': ['Arad', 'Lugoj'],\n",
        "    'Lugoj': ['Timisoara', 'Mehadia'],\n",
        "    'Mehadia': ['Lugoj', 'Drobeta'],\n",
        "    'Drobeta': ['Mehadia', 'Craiova'],\n",
        "    'Craiova': ['Drobeta', 'Rimnicu Vilcea', 'Pitesti'],\n",
        "    'Sibiu': ['Arad', 'Oradea', 'Fagaras', 'Rimnicu Vilcea'],\n",
        "    'Fagaras': ['Sibiu', 'Bucharest'],\n",
        "    'Rimnicu Vilcea': ['Sibiu', 'Craiova', 'Pitesti'],\n",
        "    'Pitesti': ['Rimnicu Vilcea', 'Craiova', 'Bucharest'],\n",
        "    'Bucharest': ['Fagaras', 'Pitesti', 'Giurgiu', 'Urziceni'],\n",
        "    'Giurgiu': ['Bucharest'],\n",
        "    'Urziceni': ['Bucharest', 'Hirsova', 'Vaslui'],\n",
        "    'Hirsova': ['Urziceni', 'Eforie'],\n",
        "    'Eforie': ['Hirsova'],\n",
        "    'Vaslui': ['Urziceni', 'Iasi'],\n",
        "    'Iasi': ['Vaslui', 'Neamt'],\n",
        "    'Neamt': ['Iasi']\n",
        "}\n",
        "\n",
        "def bfs(start, goal):\n",
        "    queue = deque([[start]])\n",
        "    visited = set()\n",
        "\n",
        "    while queue:\n",
        "        path = queue.popleft()\n",
        "        city = path[-1]\n",
        "\n",
        "        if city == goal:\n",
        "            return path\n",
        "\n",
        "        if city not in visited:\n",
        "            visited.add(city)\n",
        "            for neighbor in romania_map.get(city, []):\n",
        "                new_path = list(path)\n",
        "                new_path.append(neighbor)\n",
        "                queue.append(new_path)\n",
        "\n",
        "    return None\n",
        "\n",
        "# Contoh penggunaan\n",
        "start = 'Arad'\n",
        "goal = 'Bucharest'\n",
        "result = bfs(start, goal)\n",
        "\n",
        "# Output hasil\n",
        "if result:\n",
        "    print(\"Jalur terpendek dari\", start, \"ke\", goal, \"adalah:\")\n",
        "    print(\" -> \".join(result))\n",
        "else:\n",
        "    print(\"Jalur tidak ditemukan.\")\n"
      ]
    }
  ]
}